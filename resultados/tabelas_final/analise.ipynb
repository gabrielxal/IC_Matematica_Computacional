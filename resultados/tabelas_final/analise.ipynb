{
 "cells": [
  {
   "cell_type": "code",
   "execution_count": 37,
   "id": "204b64a9",
   "metadata": {},
   "outputs": [],
   "source": [
    "import pandas as pd\n",
    "import numpy as np\n"
   ]
  },
  {
   "cell_type": "code",
   "execution_count": 38,
   "id": "27bda061",
   "metadata": {},
   "outputs": [],
   "source": [
    "dfMMQ = pd.read_excel('resultado_MMQ_final.xlsx')"
   ]
  },
  {
   "cell_type": "code",
   "execution_count": 39,
   "id": "2885bce2",
   "metadata": {},
   "outputs": [],
   "source": [
    "df2 = dfMMQ.query('r2 > 0.8 & r2 < 0.95 & Metodo.str.endswith(\"P\")')"
   ]
  },
  {
   "cell_type": "code",
   "execution_count": 40,
   "id": "38ebe148",
   "metadata": {},
   "outputs": [
    {
     "data": {
      "text/html": [
       "<div>\n",
       "<style scoped>\n",
       "    .dataframe tbody tr th:only-of-type {\n",
       "        vertical-align: middle;\n",
       "    }\n",
       "\n",
       "    .dataframe tbody tr th {\n",
       "        vertical-align: top;\n",
       "    }\n",
       "\n",
       "    .dataframe thead th {\n",
       "        text-align: right;\n",
       "    }\n",
       "</style>\n",
       "<table border=\"1\" class=\"dataframe\">\n",
       "  <thead>\n",
       "    <tr style=\"text-align: right;\">\n",
       "      <th></th>\n",
       "      <th>Unnamed: 0</th>\n",
       "      <th>Matriz</th>\n",
       "      <th>Metodo</th>\n",
       "      <th>r2</th>\n",
       "      <th>ajuste</th>\n",
       "      <th>segundo grau</th>\n",
       "      <th>primeiro grau</th>\n",
       "      <th>independente</th>\n",
       "    </tr>\n",
       "  </thead>\n",
       "  <tbody>\n",
       "  </tbody>\n",
       "</table>\n",
       "</div>"
      ],
      "text/plain": [
       "Empty DataFrame\n",
       "Columns: [Unnamed: 0, Matriz, Metodo, r2, ajuste, segundo grau, primeiro grau, independente]\n",
       "Index: []"
      ]
     },
     "execution_count": 40,
     "metadata": {},
     "output_type": "execute_result"
    }
   ],
   "source": [
    "dfMMQ.query('Matriz.str.startswith(\"c130\") & Metodo.str.endswith(\"P\")')"
   ]
  },
  {
   "cell_type": "code",
   "execution_count": 41,
   "id": "56a88b5a",
   "metadata": {},
   "outputs": [
    {
     "data": {
      "text/html": [
       "<div>\n",
       "<style scoped>\n",
       "    .dataframe tbody tr th:only-of-type {\n",
       "        vertical-align: middle;\n",
       "    }\n",
       "\n",
       "    .dataframe tbody tr th {\n",
       "        vertical-align: top;\n",
       "    }\n",
       "\n",
       "    .dataframe thead th {\n",
       "        text-align: right;\n",
       "    }\n",
       "</style>\n",
       "<table border=\"1\" class=\"dataframe\">\n",
       "  <thead>\n",
       "    <tr style=\"text-align: right;\">\n",
       "      <th></th>\n",
       "      <th>Unnamed: 0</th>\n",
       "      <th>Matriz</th>\n",
       "      <th>Metodo</th>\n",
       "      <th>r2</th>\n",
       "      <th>ajuste</th>\n",
       "      <th>segundo grau</th>\n",
       "      <th>primeiro grau</th>\n",
       "      <th>independente</th>\n",
       "    </tr>\n",
       "  </thead>\n",
       "  <tbody>\n",
       "  </tbody>\n",
       "</table>\n",
       "</div>"
      ],
      "text/plain": [
       "Empty DataFrame\n",
       "Columns: [Unnamed: 0, Matriz, Metodo, r2, ajuste, segundo grau, primeiro grau, independente]\n",
       "Index: []"
      ]
     },
     "execution_count": 41,
     "metadata": {},
     "output_type": "execute_result"
    }
   ],
   "source": [
    "dfMMQ.query('Matriz.str.startswith(\"bcsstk21\") & Metodo.str.endswith(\"P\")')"
   ]
  },
  {
   "cell_type": "code",
   "execution_count": 42,
   "id": "30c714b5",
   "metadata": {},
   "outputs": [
    {
     "data": {
      "text/html": [
       "<div>\n",
       "<style scoped>\n",
       "    .dataframe tbody tr th:only-of-type {\n",
       "        vertical-align: middle;\n",
       "    }\n",
       "\n",
       "    .dataframe tbody tr th {\n",
       "        vertical-align: top;\n",
       "    }\n",
       "\n",
       "    .dataframe thead th {\n",
       "        text-align: right;\n",
       "    }\n",
       "</style>\n",
       "<table border=\"1\" class=\"dataframe\">\n",
       "  <thead>\n",
       "    <tr style=\"text-align: right;\">\n",
       "      <th></th>\n",
       "      <th>Unnamed: 0</th>\n",
       "      <th>Matriz</th>\n",
       "      <th>Metodo</th>\n",
       "      <th>r2</th>\n",
       "      <th>ajuste</th>\n",
       "      <th>segundo grau</th>\n",
       "      <th>primeiro grau</th>\n",
       "      <th>independente</th>\n",
       "    </tr>\n",
       "  </thead>\n",
       "  <tbody>\n",
       "  </tbody>\n",
       "</table>\n",
       "</div>"
      ],
      "text/plain": [
       "Empty DataFrame\n",
       "Columns: [Unnamed: 0, Matriz, Metodo, r2, ajuste, segundo grau, primeiro grau, independente]\n",
       "Index: []"
      ]
     },
     "execution_count": 42,
     "metadata": {},
     "output_type": "execute_result"
    }
   ],
   "source": [
    "dfMMQ.query('Matriz.str.startswith(\"bcspwr05\") & Metodo.str.endswith(\"P\")')"
   ]
  },
  {
   "cell_type": "code",
   "execution_count": 43,
   "id": "20a6c107",
   "metadata": {},
   "outputs": [
    {
     "data": {
      "text/html": [
       "<div>\n",
       "<style scoped>\n",
       "    .dataframe tbody tr th:only-of-type {\n",
       "        vertical-align: middle;\n",
       "    }\n",
       "\n",
       "    .dataframe tbody tr th {\n",
       "        vertical-align: top;\n",
       "    }\n",
       "\n",
       "    .dataframe thead th {\n",
       "        text-align: right;\n",
       "    }\n",
       "</style>\n",
       "<table border=\"1\" class=\"dataframe\">\n",
       "  <thead>\n",
       "    <tr style=\"text-align: right;\">\n",
       "      <th></th>\n",
       "      <th>Unnamed: 0</th>\n",
       "      <th>Matriz</th>\n",
       "      <th>Metodo</th>\n",
       "      <th>r2</th>\n",
       "      <th>ajuste</th>\n",
       "      <th>segundo grau</th>\n",
       "      <th>primeiro grau</th>\n",
       "      <th>independente</th>\n",
       "    </tr>\n",
       "  </thead>\n",
       "  <tbody>\n",
       "  </tbody>\n",
       "</table>\n",
       "</div>"
      ],
      "text/plain": [
       "Empty DataFrame\n",
       "Columns: [Unnamed: 0, Matriz, Metodo, r2, ajuste, segundo grau, primeiro grau, independente]\n",
       "Index: []"
      ]
     },
     "execution_count": 43,
     "metadata": {},
     "output_type": "execute_result"
    }
   ],
   "source": [
    "dfMMQ.query('Matriz.str.startswith(\"dwt_1242\") & Metodo.str.endswith(\"P\")')"
   ]
  },
  {
   "cell_type": "code",
   "execution_count": 44,
   "id": "0bce02fc",
   "metadata": {},
   "outputs": [],
   "source": [
    "df3 = dfMMQ.query('Matriz.str.startswith(\"bcsstk27\") & Metodo.str.endswith(\"P\") & r2 >0.3')"
   ]
  },
  {
   "cell_type": "code",
   "execution_count": 45,
   "id": "90b008c0",
   "metadata": {},
   "outputs": [],
   "source": [
    "df2 = pd.concat([df2,df3], ignore_index = True)\n",
    "df2 = df2.drop(columns=df2.columns[df2.columns.str.contains('^Unnamed')])"
   ]
  },
  {
   "cell_type": "code",
   "execution_count": 46,
   "id": "13d9bfe8",
   "metadata": {},
   "outputs": [],
   "source": [
    "df_sem_colunas = df2.drop(columns=['Metodo'])\n"
   ]
  },
  {
   "cell_type": "code",
   "execution_count": 47,
   "id": "e382466c",
   "metadata": {},
   "outputs": [
    {
     "data": {
      "text/html": [
       "<div>\n",
       "<style scoped>\n",
       "    .dataframe tbody tr th:only-of-type {\n",
       "        vertical-align: middle;\n",
       "    }\n",
       "\n",
       "    .dataframe tbody tr th {\n",
       "        vertical-align: top;\n",
       "    }\n",
       "\n",
       "    .dataframe thead th {\n",
       "        text-align: right;\n",
       "    }\n",
       "</style>\n",
       "<table border=\"1\" class=\"dataframe\">\n",
       "  <thead>\n",
       "    <tr style=\"text-align: right;\">\n",
       "      <th></th>\n",
       "      <th>Matriz</th>\n",
       "      <th>r2</th>\n",
       "      <th>ajuste</th>\n",
       "      <th>segundo grau</th>\n",
       "      <th>primeiro grau</th>\n",
       "      <th>independente</th>\n",
       "    </tr>\n",
       "  </thead>\n",
       "  <tbody>\n",
       "    <tr>\n",
       "      <th>0</th>\n",
       "      <td>1138_bus</td>\n",
       "      <td>0.864371</td>\n",
       "      <td>Polinomial</td>\n",
       "      <td>-9.464077e+03</td>\n",
       "      <td>5.214210e+03</td>\n",
       "      <td>-1.615754e+02</td>\n",
       "    </tr>\n",
       "    <tr>\n",
       "      <th>1</th>\n",
       "      <td>685_bus</td>\n",
       "      <td>0.934008</td>\n",
       "      <td>Polinomial</td>\n",
       "      <td>2.559547e+04</td>\n",
       "      <td>4.068288e+02</td>\n",
       "      <td>-6.558528e+01</td>\n",
       "    </tr>\n",
       "    <tr>\n",
       "      <th>2</th>\n",
       "      <td>494_bus</td>\n",
       "      <td>0.933974</td>\n",
       "      <td>Polinomial</td>\n",
       "      <td>2.170839e+03</td>\n",
       "      <td>3.449490e+01</td>\n",
       "      <td>-5.559967e+00</td>\n",
       "    </tr>\n",
       "    <tr>\n",
       "      <th>3</th>\n",
       "      <td>662_bus</td>\n",
       "      <td>0.934554</td>\n",
       "      <td>Polinomial</td>\n",
       "      <td>1.390797e+03</td>\n",
       "      <td>2.214944e+01</td>\n",
       "      <td>-3.569306e+00</td>\n",
       "    </tr>\n",
       "    <tr>\n",
       "      <th>4</th>\n",
       "      <td>bcsstk02</td>\n",
       "      <td>0.840110</td>\n",
       "      <td>Logaritmo</td>\n",
       "      <td>0.000000e+00</td>\n",
       "      <td>2.803435e+03</td>\n",
       "      <td>1.014957e+04</td>\n",
       "    </tr>\n",
       "    <tr>\n",
       "      <th>5</th>\n",
       "      <td>bcsstk02</td>\n",
       "      <td>0.826742</td>\n",
       "      <td>Polinomial</td>\n",
       "      <td>1.009292e+04</td>\n",
       "      <td>9.537883e+02</td>\n",
       "      <td>-2.532116e+01</td>\n",
       "    </tr>\n",
       "    <tr>\n",
       "      <th>6</th>\n",
       "      <td>bcsstk05</td>\n",
       "      <td>0.894736</td>\n",
       "      <td>Logaritmo</td>\n",
       "      <td>0.000000e+00</td>\n",
       "      <td>1.450185e+06</td>\n",
       "      <td>1.521193e+06</td>\n",
       "    </tr>\n",
       "    <tr>\n",
       "      <th>7</th>\n",
       "      <td>bcsstk05</td>\n",
       "      <td>0.841227</td>\n",
       "      <td>Potencial</td>\n",
       "      <td>0.000000e+00</td>\n",
       "      <td>3.838114e-01</td>\n",
       "      <td>1.834514e+06</td>\n",
       "    </tr>\n",
       "    <tr>\n",
       "      <th>8</th>\n",
       "      <td>bcsstk05</td>\n",
       "      <td>0.907286</td>\n",
       "      <td>Polinomial</td>\n",
       "      <td>1.843515e+06</td>\n",
       "      <td>3.658056e+05</td>\n",
       "      <td>-7.044912e+03</td>\n",
       "    </tr>\n",
       "    <tr>\n",
       "      <th>9</th>\n",
       "      <td>bcsstk25</td>\n",
       "      <td>0.831652</td>\n",
       "      <td>Logaritmo</td>\n",
       "      <td>0.000000e+00</td>\n",
       "      <td>1.505794e+14</td>\n",
       "      <td>6.503760e+14</td>\n",
       "    </tr>\n",
       "    <tr>\n",
       "      <th>10</th>\n",
       "      <td>bcsstk25</td>\n",
       "      <td>0.862942</td>\n",
       "      <td>Polinomial</td>\n",
       "      <td>6.167463e+14</td>\n",
       "      <td>6.151870e+13</td>\n",
       "      <td>-1.950688e+12</td>\n",
       "    </tr>\n",
       "    <tr>\n",
       "      <th>11</th>\n",
       "      <td>bcsstm09</td>\n",
       "      <td>0.866831</td>\n",
       "      <td>Logaritmo</td>\n",
       "      <td>0.000000e+00</td>\n",
       "      <td>-4.511190e-03</td>\n",
       "      <td>4.507465e-03</td>\n",
       "    </tr>\n",
       "    <tr>\n",
       "      <th>12</th>\n",
       "      <td>bcsstm09</td>\n",
       "      <td>0.866831</td>\n",
       "      <td>Potencial</td>\n",
       "      <td>0.000000e+00</td>\n",
       "      <td>-2.848966e+00</td>\n",
       "      <td>3.789314e-03</td>\n",
       "    </tr>\n",
       "  </tbody>\n",
       "</table>\n",
       "</div>"
      ],
      "text/plain": [
       "      Matriz        r2      ajuste  segundo grau  primeiro grau  independente\n",
       "0   1138_bus  0.864371  Polinomial -9.464077e+03   5.214210e+03 -1.615754e+02\n",
       "1    685_bus  0.934008  Polinomial  2.559547e+04   4.068288e+02 -6.558528e+01\n",
       "2    494_bus  0.933974  Polinomial  2.170839e+03   3.449490e+01 -5.559967e+00\n",
       "3    662_bus  0.934554  Polinomial  1.390797e+03   2.214944e+01 -3.569306e+00\n",
       "4   bcsstk02  0.840110   Logaritmo  0.000000e+00   2.803435e+03  1.014957e+04\n",
       "5   bcsstk02  0.826742  Polinomial  1.009292e+04   9.537883e+02 -2.532116e+01\n",
       "6   bcsstk05  0.894736   Logaritmo  0.000000e+00   1.450185e+06  1.521193e+06\n",
       "7   bcsstk05  0.841227   Potencial  0.000000e+00   3.838114e-01  1.834514e+06\n",
       "8   bcsstk05  0.907286  Polinomial  1.843515e+06   3.658056e+05 -7.044912e+03\n",
       "9   bcsstk25  0.831652   Logaritmo  0.000000e+00   1.505794e+14  6.503760e+14\n",
       "10  bcsstk25  0.862942  Polinomial  6.167463e+14   6.151870e+13 -1.950688e+12\n",
       "11  bcsstm09  0.866831   Logaritmo  0.000000e+00  -4.511190e-03  4.507465e-03\n",
       "12  bcsstm09  0.866831   Potencial  0.000000e+00  -2.848966e+00  3.789314e-03"
      ]
     },
     "execution_count": 47,
     "metadata": {},
     "output_type": "execute_result"
    }
   ],
   "source": [
    "df_sem_colunas"
   ]
  },
  {
   "cell_type": "code",
   "execution_count": 48,
   "id": "f75ff396",
   "metadata": {},
   "outputs": [],
   "source": [
    "df4 = df_sem_colunas"
   ]
  },
  {
   "cell_type": "code",
   "execution_count": 49,
   "id": "21ba3035",
   "metadata": {},
   "outputs": [],
   "source": [
    "df4 = df4.drop(df4[df4['Matriz'] == '38_bus'].index)"
   ]
  },
  {
   "cell_type": "code",
   "execution_count": 50,
   "id": "8be2e9c6",
   "metadata": {},
   "outputs": [],
   "source": [
    "df4 = df4.drop(df4[df4['Matriz'] == 'bcsstm09'].index)"
   ]
  },
  {
   "cell_type": "code",
   "execution_count": 51,
   "id": "70320638",
   "metadata": {},
   "outputs": [
    {
     "data": {
      "text/plain": [
       "<bound method DataFrame.reset_index of       Matriz        r2      ajuste  segundo grau  primeiro grau  independente\n",
       "0   1138_bus  0.864371  Polinomial -9.464077e+03   5.214210e+03 -1.615754e+02\n",
       "1    685_bus  0.934008  Polinomial  2.559547e+04   4.068288e+02 -6.558528e+01\n",
       "2    494_bus  0.933974  Polinomial  2.170839e+03   3.449490e+01 -5.559967e+00\n",
       "3    662_bus  0.934554  Polinomial  1.390797e+03   2.214944e+01 -3.569306e+00\n",
       "4   bcsstk02  0.840110   Logaritmo  0.000000e+00   2.803435e+03  1.014957e+04\n",
       "5   bcsstk02  0.826742  Polinomial  1.009292e+04   9.537883e+02 -2.532116e+01\n",
       "6   bcsstk05  0.894736   Logaritmo  0.000000e+00   1.450185e+06  1.521193e+06\n",
       "7   bcsstk05  0.841227   Potencial  0.000000e+00   3.838114e-01  1.834514e+06\n",
       "8   bcsstk05  0.907286  Polinomial  1.843515e+06   3.658056e+05 -7.044912e+03\n",
       "9   bcsstk25  0.831652   Logaritmo  0.000000e+00   1.505794e+14  6.503760e+14\n",
       "10  bcsstk25  0.862942  Polinomial  6.167463e+14   6.151870e+13 -1.950688e+12>"
      ]
     },
     "execution_count": 51,
     "metadata": {},
     "output_type": "execute_result"
    }
   ],
   "source": [
    "df4.reset_index"
   ]
  },
  {
   "cell_type": "code",
   "execution_count": 52,
   "id": "fb592267",
   "metadata": {},
   "outputs": [
    {
     "data": {
      "text/html": [
       "<div>\n",
       "<style scoped>\n",
       "    .dataframe tbody tr th:only-of-type {\n",
       "        vertical-align: middle;\n",
       "    }\n",
       "\n",
       "    .dataframe tbody tr th {\n",
       "        vertical-align: top;\n",
       "    }\n",
       "\n",
       "    .dataframe thead th {\n",
       "        text-align: right;\n",
       "    }\n",
       "</style>\n",
       "<table border=\"1\" class=\"dataframe\">\n",
       "  <thead>\n",
       "    <tr style=\"text-align: right;\">\n",
       "      <th></th>\n",
       "      <th>Matriz</th>\n",
       "      <th>r2</th>\n",
       "      <th>ajuste</th>\n",
       "      <th>segundo grau</th>\n",
       "      <th>primeiro grau</th>\n",
       "      <th>independente</th>\n",
       "    </tr>\n",
       "  </thead>\n",
       "  <tbody>\n",
       "    <tr>\n",
       "      <th>0</th>\n",
       "      <td>1138_bus</td>\n",
       "      <td>0.864371</td>\n",
       "      <td>Polinomial</td>\n",
       "      <td>-9.464077e+03</td>\n",
       "      <td>5.214210e+03</td>\n",
       "      <td>-1.615754e+02</td>\n",
       "    </tr>\n",
       "    <tr>\n",
       "      <th>1</th>\n",
       "      <td>685_bus</td>\n",
       "      <td>0.934008</td>\n",
       "      <td>Polinomial</td>\n",
       "      <td>2.559547e+04</td>\n",
       "      <td>4.068288e+02</td>\n",
       "      <td>-6.558528e+01</td>\n",
       "    </tr>\n",
       "    <tr>\n",
       "      <th>2</th>\n",
       "      <td>494_bus</td>\n",
       "      <td>0.933974</td>\n",
       "      <td>Polinomial</td>\n",
       "      <td>2.170839e+03</td>\n",
       "      <td>3.449490e+01</td>\n",
       "      <td>-5.559967e+00</td>\n",
       "    </tr>\n",
       "    <tr>\n",
       "      <th>3</th>\n",
       "      <td>662_bus</td>\n",
       "      <td>0.934554</td>\n",
       "      <td>Polinomial</td>\n",
       "      <td>1.390797e+03</td>\n",
       "      <td>2.214944e+01</td>\n",
       "      <td>-3.569306e+00</td>\n",
       "    </tr>\n",
       "    <tr>\n",
       "      <th>4</th>\n",
       "      <td>bcsstk02</td>\n",
       "      <td>0.840110</td>\n",
       "      <td>Logaritmo</td>\n",
       "      <td>0.000000e+00</td>\n",
       "      <td>2.803435e+03</td>\n",
       "      <td>1.014957e+04</td>\n",
       "    </tr>\n",
       "    <tr>\n",
       "      <th>5</th>\n",
       "      <td>bcsstk02</td>\n",
       "      <td>0.826742</td>\n",
       "      <td>Polinomial</td>\n",
       "      <td>1.009292e+04</td>\n",
       "      <td>9.537883e+02</td>\n",
       "      <td>-2.532116e+01</td>\n",
       "    </tr>\n",
       "    <tr>\n",
       "      <th>6</th>\n",
       "      <td>bcsstk05</td>\n",
       "      <td>0.894736</td>\n",
       "      <td>Logaritmo</td>\n",
       "      <td>0.000000e+00</td>\n",
       "      <td>1.450185e+06</td>\n",
       "      <td>1.521193e+06</td>\n",
       "    </tr>\n",
       "    <tr>\n",
       "      <th>7</th>\n",
       "      <td>bcsstk05</td>\n",
       "      <td>0.841227</td>\n",
       "      <td>Potencial</td>\n",
       "      <td>0.000000e+00</td>\n",
       "      <td>3.838114e-01</td>\n",
       "      <td>1.834514e+06</td>\n",
       "    </tr>\n",
       "    <tr>\n",
       "      <th>8</th>\n",
       "      <td>bcsstk05</td>\n",
       "      <td>0.907286</td>\n",
       "      <td>Polinomial</td>\n",
       "      <td>1.843515e+06</td>\n",
       "      <td>3.658056e+05</td>\n",
       "      <td>-7.044912e+03</td>\n",
       "    </tr>\n",
       "    <tr>\n",
       "      <th>9</th>\n",
       "      <td>bcsstk25</td>\n",
       "      <td>0.831652</td>\n",
       "      <td>Logaritmo</td>\n",
       "      <td>0.000000e+00</td>\n",
       "      <td>1.505794e+14</td>\n",
       "      <td>6.503760e+14</td>\n",
       "    </tr>\n",
       "    <tr>\n",
       "      <th>10</th>\n",
       "      <td>bcsstk25</td>\n",
       "      <td>0.862942</td>\n",
       "      <td>Polinomial</td>\n",
       "      <td>6.167463e+14</td>\n",
       "      <td>6.151870e+13</td>\n",
       "      <td>-1.950688e+12</td>\n",
       "    </tr>\n",
       "  </tbody>\n",
       "</table>\n",
       "</div>"
      ],
      "text/plain": [
       "      Matriz        r2      ajuste  segundo grau  primeiro grau  independente\n",
       "0   1138_bus  0.864371  Polinomial -9.464077e+03   5.214210e+03 -1.615754e+02\n",
       "1    685_bus  0.934008  Polinomial  2.559547e+04   4.068288e+02 -6.558528e+01\n",
       "2    494_bus  0.933974  Polinomial  2.170839e+03   3.449490e+01 -5.559967e+00\n",
       "3    662_bus  0.934554  Polinomial  1.390797e+03   2.214944e+01 -3.569306e+00\n",
       "4   bcsstk02  0.840110   Logaritmo  0.000000e+00   2.803435e+03  1.014957e+04\n",
       "5   bcsstk02  0.826742  Polinomial  1.009292e+04   9.537883e+02 -2.532116e+01\n",
       "6   bcsstk05  0.894736   Logaritmo  0.000000e+00   1.450185e+06  1.521193e+06\n",
       "7   bcsstk05  0.841227   Potencial  0.000000e+00   3.838114e-01  1.834514e+06\n",
       "8   bcsstk05  0.907286  Polinomial  1.843515e+06   3.658056e+05 -7.044912e+03\n",
       "9   bcsstk25  0.831652   Logaritmo  0.000000e+00   1.505794e+14  6.503760e+14\n",
       "10  bcsstk25  0.862942  Polinomial  6.167463e+14   6.151870e+13 -1.950688e+12"
      ]
     },
     "execution_count": 52,
     "metadata": {},
     "output_type": "execute_result"
    }
   ],
   "source": [
    "df4"
   ]
  },
  {
   "cell_type": "code",
   "execution_count": 53,
   "id": "9a64e139",
   "metadata": {},
   "outputs": [],
   "source": [
    "def preencher_coluna(row):\n",
    "    if row['ajustes'] == 'Logaritmo':\n",
    "        return 'valor_para_ajuste1'\n",
    "    elif row['ajustes'] == 'ajuste2':\n",
    "        return 'valor_para_ajuste2'\n",
    "    else:\n",
    "        return 'valor_padrao'"
   ]
  },
  {
   "cell_type": "code",
   "execution_count": 54,
   "id": "efbde291",
   "metadata": {},
   "outputs": [],
   "source": [
    "df4.to_excel('filtragem.xlsx')"
   ]
  },
  {
   "cell_type": "code",
   "execution_count": null,
   "id": "beba0d28",
   "metadata": {},
   "outputs": [],
   "source": []
  }
 ],
 "metadata": {
  "kernelspec": {
   "display_name": "Python 3 (ipykernel)",
   "language": "python",
   "name": "python3"
  },
  "language_info": {
   "codemirror_mode": {
    "name": "ipython",
    "version": 3
   },
   "file_extension": ".py",
   "mimetype": "text/x-python",
   "name": "python",
   "nbconvert_exporter": "python",
   "pygments_lexer": "ipython3",
   "version": "3.11.7"
  }
 },
 "nbformat": 4,
 "nbformat_minor": 5
}
